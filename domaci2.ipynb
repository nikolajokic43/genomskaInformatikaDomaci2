{
 "cells": [
  {
   "cell_type": "code",
   "execution_count": 26,
   "metadata": {},
   "outputs": [
    {
     "name": "stdout",
     "output_type": "stream",
     "text": [
      "Average mapping quality if reads with 0 mapp quality are filtered out: 58.446975510921106\n",
      "Number of unmapped reads: 17765\n",
      "Number of reads: 2921629\n",
      "Number of reads with mapping quality 0: 126628\n",
      "Average mapping quality for all the reads: 55.91379158681681\n"
     ]
    }
   ],
   "source": [
    "\n",
    "import pysam \n",
    "\n",
    "fileToRead = pysam.AlignmentFile(\"merged-tumor.bam\", \"rb\")\n",
    "qualityOfReads = 0\n",
    "unmappedReads = 0\n",
    "allReads = 0\n",
    "quality = 0\n",
    "\n",
    "first_read = pysam.AlignedSegment\n",
    "\n",
    "\n",
    "for read in fileToRead.fetch(until_eof = True):\n",
    "    quality += read.mapping_quality\n",
    "    allReads += 1\n",
    "    \n",
    "    if read.is_unmapped: \n",
    "        unmappedReads += 1\n",
    "    if read.mapping_quality == 0:\n",
    "        qualityOfReads += 1\n",
    "\n",
    "    \n",
    "fileToRead.close()\n",
    "\n",
    "averageMappingQuality = str(quality / allReads)\n",
    "\n",
    "averageMappingQualityZero = str(quality / (allReads - qualityOfReads))\n",
    "\n",
    "print(\"Average mapping quality if reads with 0 mapp quality are filtered out: \" + averageMappingQualityZero)\n",
    "print(\"Number of unmapped reads: \" + str(unmappedReads))\n",
    "print(\"Number of reads: \" + str(allReads))\n",
    "print(\"Number of reads with mapping quality 0: \" + str(qualityOfReads))\n",
    "print(\"Average mapping quality for all the reads: \" + averageMappingQuality)"
   ]
  },
  {
   "cell_type": "code",
   "execution_count": 2,
   "metadata": {
    "collapsed": true,
    "jupyter": {
     "outputs_hidden": true,
     "source_hidden": true
    }
   },
   "outputs": [
    {
     "name": "stdout",
     "output_type": "stream",
     "text": [
      "Collecting pysam\n",
      "  Downloading pysam-0.16.0.1-cp38-cp38-manylinux1_x86_64.whl (10.2 MB)\n",
      "\u001b[K     |████████████████████████████████| 10.2 MB 23.0 MB/s eta 0:00:01\n",
      "\u001b[?25hInstalling collected packages: pysam\n",
      "Successfully installed pysam-0.16.0.1\n",
      "Note: you may need to restart the kernel to use updated packages.\n"
     ]
    }
   ],
   "source": [
    "pip install pysam"
   ]
  },
  {
   "cell_type": "code",
   "execution_count": null,
   "metadata": {},
   "outputs": [],
   "source": []
  },
  {
   "cell_type": "code",
   "execution_count": null,
   "metadata": {},
   "outputs": [],
   "source": []
  }
 ],
 "metadata": {
  "kernelspec": {
   "display_name": "Python 3",
   "language": "python",
   "name": "python3"
  },
  "language_info": {
   "codemirror_mode": {
    "name": "ipython",
    "version": 3
   },
   "file_extension": ".py",
   "mimetype": "text/x-python",
   "name": "python",
   "nbconvert_exporter": "python",
   "pygments_lexer": "ipython3",
   "version": "3.8.3"
  }
 },
 "nbformat": 4,
 "nbformat_minor": 4
}
